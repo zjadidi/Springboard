{
 "cells": [
  {
   "cell_type": "markdown",
   "metadata": {},
   "source": [
    "# Frequentist Inference Case Study - Part B"
   ]
  },
  {
   "cell_type": "markdown",
   "metadata": {},
   "source": [
    "## Learning objectives"
   ]
  },
  {
   "cell_type": "markdown",
   "metadata": {},
   "source": [
    "Welcome to Part B of the Frequentist inference case study! The purpose of this case study is to help you apply the concepts associated with Frequentist inference in Python. In particular, you'll practice writing Python code to apply the following statistical concepts: \n",
    "* the _z_-statistic\n",
    "* the _t_-statistic\n",
    "* the difference and relationship between the two\n",
    "* the Central Limit Theorem, including its assumptions and consequences\n",
    "* how to estimate the population mean and standard deviation from a sample\n",
    "* the concept of a sampling distribution of a test statistic, particularly for the mean\n",
    "* how to combine these concepts to calculate a confidence interval"
   ]
  },
  {
   "cell_type": "markdown",
   "metadata": {},
   "source": [
    "In the previous notebook, we used only data from a known normal distribution. **You'll now tackle real data, rather than simulated data, and answer some relevant real-world business problems using the data.**"
   ]
  },
  {
   "cell_type": "markdown",
   "metadata": {},
   "source": [
    "## Hospital medical charges"
   ]
  },
  {
   "cell_type": "markdown",
   "metadata": {},
   "source": [
    "Imagine that a hospital has hired you as their data scientist. An administrator is working on the hospital's business operations plan and needs you to help them answer some business questions. \n",
    "\n",
    "In this assignment notebook, you're going to use frequentist statistical inference on a data sample to answer the questions:\n",
    "* has the hospital's revenue stream fallen below a key threshold?\n",
    "* are patients with insurance really charged different amounts than those without?\n",
    "\n",
    "Answering that last question with a frequentist approach makes some assumptions, and requires some knowledge, about the two groups."
   ]
  },
  {
   "cell_type": "markdown",
   "metadata": {},
   "source": [
    "We are going to use some data on medical charges obtained from [Kaggle](https://www.kaggle.com/easonlai/sample-insurance-claim-prediction-dataset). \n",
    "\n",
    "For the purposes of this exercise, assume the observations are the result of random sampling from our single hospital. Recall that in the previous assignment, we introduced the Central Limit Theorem (CLT), and its consequence that the distributions of sample statistics approach a normal distribution as $n$ increases. The amazing thing about this is that it applies to the sampling distributions of statistics that have been calculated from even highly non-normal distributions of data! Recall, also, that hypothesis testing is very much based on making inferences about such sample statistics. You're going to rely heavily on the CLT to apply frequentist (parametric) tests to answer the questions in this notebook."
   ]
  },
  {
   "cell_type": "code",
   "execution_count": 1,
   "metadata": {},
   "outputs": [],
   "source": [
    "import pandas as pd\n",
    "import numpy as np\n",
    "import matplotlib.pyplot as plt\n",
    "from scipy.stats import t\n",
    "from numpy.random import seed\n",
    "medical = pd.read_csv('insurance2.csv')"
   ]
  },
  {
   "cell_type": "code",
   "execution_count": 2,
   "metadata": {},
   "outputs": [
    {
     "data": {
      "text/plain": [
       "(1338, 8)"
      ]
     },
     "execution_count": 2,
     "metadata": {},
     "output_type": "execute_result"
    }
   ],
   "source": [
    "medical.shape"
   ]
  },
  {
   "cell_type": "code",
   "execution_count": 3,
   "metadata": {},
   "outputs": [
    {
     "data": {
      "text/html": [
       "<div>\n",
       "<style scoped>\n",
       "    .dataframe tbody tr th:only-of-type {\n",
       "        vertical-align: middle;\n",
       "    }\n",
       "\n",
       "    .dataframe tbody tr th {\n",
       "        vertical-align: top;\n",
       "    }\n",
       "\n",
       "    .dataframe thead th {\n",
       "        text-align: right;\n",
       "    }\n",
       "</style>\n",
       "<table border=\"1\" class=\"dataframe\">\n",
       "  <thead>\n",
       "    <tr style=\"text-align: right;\">\n",
       "      <th></th>\n",
       "      <th>age</th>\n",
       "      <th>sex</th>\n",
       "      <th>bmi</th>\n",
       "      <th>children</th>\n",
       "      <th>smoker</th>\n",
       "      <th>region</th>\n",
       "      <th>charges</th>\n",
       "      <th>insuranceclaim</th>\n",
       "    </tr>\n",
       "  </thead>\n",
       "  <tbody>\n",
       "    <tr>\n",
       "      <th>0</th>\n",
       "      <td>19</td>\n",
       "      <td>0</td>\n",
       "      <td>27.900</td>\n",
       "      <td>0</td>\n",
       "      <td>1</td>\n",
       "      <td>3</td>\n",
       "      <td>16884.92400</td>\n",
       "      <td>1</td>\n",
       "    </tr>\n",
       "    <tr>\n",
       "      <th>1</th>\n",
       "      <td>18</td>\n",
       "      <td>1</td>\n",
       "      <td>33.770</td>\n",
       "      <td>1</td>\n",
       "      <td>0</td>\n",
       "      <td>2</td>\n",
       "      <td>1725.55230</td>\n",
       "      <td>1</td>\n",
       "    </tr>\n",
       "    <tr>\n",
       "      <th>2</th>\n",
       "      <td>28</td>\n",
       "      <td>1</td>\n",
       "      <td>33.000</td>\n",
       "      <td>3</td>\n",
       "      <td>0</td>\n",
       "      <td>2</td>\n",
       "      <td>4449.46200</td>\n",
       "      <td>0</td>\n",
       "    </tr>\n",
       "    <tr>\n",
       "      <th>3</th>\n",
       "      <td>33</td>\n",
       "      <td>1</td>\n",
       "      <td>22.705</td>\n",
       "      <td>0</td>\n",
       "      <td>0</td>\n",
       "      <td>1</td>\n",
       "      <td>21984.47061</td>\n",
       "      <td>0</td>\n",
       "    </tr>\n",
       "    <tr>\n",
       "      <th>4</th>\n",
       "      <td>32</td>\n",
       "      <td>1</td>\n",
       "      <td>28.880</td>\n",
       "      <td>0</td>\n",
       "      <td>0</td>\n",
       "      <td>1</td>\n",
       "      <td>3866.85520</td>\n",
       "      <td>1</td>\n",
       "    </tr>\n",
       "  </tbody>\n",
       "</table>\n",
       "</div>"
      ],
      "text/plain": [
       "   age  sex     bmi  children  smoker  region      charges  insuranceclaim\n",
       "0   19    0  27.900         0       1       3  16884.92400               1\n",
       "1   18    1  33.770         1       0       2   1725.55230               1\n",
       "2   28    1  33.000         3       0       2   4449.46200               0\n",
       "3   33    1  22.705         0       0       1  21984.47061               0\n",
       "4   32    1  28.880         0       0       1   3866.85520               1"
      ]
     },
     "execution_count": 3,
     "metadata": {},
     "output_type": "execute_result"
    }
   ],
   "source": [
    "medical.head()"
   ]
  },
  {
   "cell_type": "markdown",
   "metadata": {},
   "source": [
    "__Q1:__ Plot the histogram of charges and calculate the mean and standard deviation. Comment on the appropriateness of these statistics for the data."
   ]
  },
  {
   "cell_type": "markdown",
   "metadata": {},
   "source": [
    "__A:__"
   ]
  },
  {
   "cell_type": "code",
   "execution_count": 4,
   "metadata": {},
   "outputs": [
    {
     "name": "stdout",
     "output_type": "stream",
     "text": [
      "mean: 13270.422265141257\n",
      "std: 12105.484975561605\n"
     ]
    },
    {
     "data": {
      "image/png": "[encoded data removed]",
      "text/plain": [
       "<Figure size 640x480 with 1 Axes>"
      ]
     },
     "metadata": {},
     "output_type": "display_data"
    }
   ],
   "source": [
    " medical['charges'].hist()\n",
    "\n",
    "plt.xlabel('charges')\n",
    "plt.ylabel('counts')\n",
    "\n",
    "print('mean:',np.mean(medical['charges']))\n",
    "print('std:' ,np.std(medical['charges']))\n"
   ]
  },
  {
   "cell_type": "markdown",
   "metadata": {},
   "source": [
    "Those numbers are fine to report, but they’re not ideal for medical charges because the distribution is usually heavily right-skewed with big outliers. The mean (≈13,270) and std (≈12,105) are both large and the std is close to the mean — a hint of skew and high variability."
   ]
  },
  {
   "cell_type": "markdown",
   "metadata": {},
   "source": [
    "__Q2:__ The administrator is concerned that the actual average charge has fallen below 12,000, threatening the hospital's operational model. On the assumption that these data represent a random sample of charges, how would you justify that these data allow you to answer that question? And what would be the most appropriate frequentist test, of the ones discussed so far, to apply?"
   ]
  },
  {
   "cell_type": "markdown",
   "metadata": {},
   "source": [
    "__A:__\n",
    "\n",
    "Since the administrator’s concern is about whether the true average charge has dropped below 12,000 dollars, and assuming these charges are an independent random sample, the sample mean provides a valid estimate of the population mean thanks to the Central Limit Theorem (even with skew). The most appropriate frequentist test here is a one-sample, one-sided t-test for the mean with \n",
    "H0​:μ≥12,000 vs H1:μ<12,000. Given the observed mean (≈13,270) calucltaed above and variability, the test shows no evidence that the population mean has fallen below 12,000 dollars."
   ]
  },
  {
   "cell_type": "markdown",
   "metadata": {},
   "source": [
    "__Q3:__ Given the nature of the administrator's concern, what is the appropriate confidence interval in this case? A ***one-sided*** or ***two-sided*** interval? (Refresh your understanding of this concept on p. 399 of the *AoS*). Calculate the critical value and the relevant 95% confidence interval for the mean, and comment on whether the administrator should be concerned."
   ]
  },
  {
   "cell_type": "markdown",
   "metadata": {},
   "source": [
    "__A:__"
   ]
  },
  {
   "cell_type": "markdown",
   "metadata": {},
   "source": [
    "Since the administrator is specifically worried about whether the mean exceeds an acceptable threshold, the appropriate confidence interval is a **one-sided upper 95% interval** rather than a two-sided one. In this case, the correct critical value is \n",
    "\n",
    "- \\(z = 1.645\\) if the population standard deviation is known or the sample size is large,  \n",
    "- \\(t_{0.95,\\;n-1}\\) if using the sample standard deviation with smaller \\(n\\).  \n",
    "\n",
    "The upper bound of the confidence interval is calculated as:\n",
    "\n",
    "$$\n",
    "\\bar{x} + \\text{critical value}\\,\\frac{s}{\\sqrt{n}}\n",
    "$$\n",
    "\n",
    "where $\\bar{x}$ is the sample mean, \\(s\\) is the sample standard deviation, and \\(n\\) is the sample size. If this upper bound is still below the administrator’s threshold, there is no cause for concern. However, if it exceeds the threshold, then the concern is valid since the true mean could plausibly be higher than what is acceptable.\n"
   ]
  },
  {
   "cell_type": "markdown",
   "metadata": {},
   "source": [
    "The administrator then wants to know whether people with insurance really are charged a different amount to those without.\n",
    "\n",
    "__Q4:__ State the null and alternative hypothesis here. Use the _t_-test for the difference between means, where the pooled standard deviation of the two groups is given by:\n",
    "\\begin{equation}\n",
    "s_p = \\sqrt{\\frac{(n_0 - 1)s^2_0 + (n_1 - 1)s^2_1}{n_0 + n_1 - 2}}\n",
    "\\end{equation}\n",
    "\n",
    "and the *t*-test statistic is then given by:\n",
    "\n",
    "\\begin{equation}\n",
    "t = \\frac{\\bar{x}_0 - \\bar{x}_1}{s_p \\sqrt{1/n_0 + 1/n_1}}.\n",
    "\\end{equation}\n",
    "\n",
    "(If you need some reminding of the general definition of ***t-statistic***, check out the definition on p. 404 of *AoS*). \n",
    "\n",
    "What assumption about the variances of the two groups are we making here?"
   ]
  },
  {
   "cell_type": "markdown",
   "metadata": {},
   "source": [
    "__A:__ **Null and alternative hypotheses (two-sample, pooled t-test):**\n",
    "\n",
    "- \\(H_0: \\mu_1 - \\mu_2 = 0\\)  (no difference in population means)  \n",
    "- \\(H_1: \\mu_1 - \\mu_2 \\neq 0\\)  (some difference in population means)  \n",
    "\n",
    "**Pooled variance and test statistic:**\n",
    "\n",
    "\n",
    "$$\n",
    "s_p^2 = \\frac{(n_1 - 1)s_1^2 + (n_2 - 1)s_2^2}{n_1 + n_2 - 2}\n",
    "$$\n",
    "\n",
    "Let $SE = s_p\\sqrt{\\tfrac{1}{n_1} + \\tfrac{1}{n_2}}$.\n",
    "\n",
    "$$\n",
    "t = \\frac{(\\bar{x}_1 - \\bar{x}_2) - \\Delta_0}{SE},\\quad \\Delta_0 = 0 \\text{ under } H_0,\\quad df = n_1 + n_2 - 2.\n",
    "$$\n",
    "\n",
    "\n",
    "**Assumption about variances:**  \n",
    "We assume **equal population variances** (homoscedasticity), i.e., $(\\sigma_1^2 = \\sigma_2^2)$.  \n",
    "Additional assumptions: independent random samples and approximately normal distributions in each group (or large \\(n\\) so the CLT applies).\n"
   ]
  },
  {
   "cell_type": "markdown",
   "metadata": {},
   "source": [
    "__Q5:__ Perform this hypothesis test both manually, using the above formulae, and then using the appropriate function from [scipy.stats](https://docs.scipy.org/doc/scipy/reference/stats.html#statistical-tests) (hint, you're looking for a function to perform a _t_-test on two independent samples). For the manual approach, calculate the value of the test statistic and then its probability (the p-value). Verify you get the same results from both."
   ]
  },
  {
   "cell_type": "markdown",
   "metadata": {},
   "source": [
    "__A:__ "
   ]
  },
  {
   "cell_type": "code",
   "execution_count": 9,
   "metadata": {},
   "outputs": [
    {
     "name": "stdout",
     "output_type": "stream",
     "text": [
      "n: insured=783, uninsured=555\n",
      "means: insured=16423.93, uninsured=8821.42\n",
      "sd: insured=14045.93, uninsured=6446.51\n",
      "\n",
      "Manual pooled t-test:\n",
      "  t = 11.893299, df = 1336, p(two-sided) = 4.46123e-31\n",
      "SciPy ttest_ind (equal_var=True):\n",
      "  t = 11.893299, df = 1336, p(two-sided) = 4.46123e-31\n"
     ]
    }
   ],
   "source": [
    "import numpy as np\n",
    "from scipy import stats\n",
    "\n",
    "# --- Build the two groups ---\n",
    "a = medical.loc[medical[\"insuranceclaim\"] == 1, \"charges\"].dropna().to_numpy()  # insured\n",
    "b = medical.loc[medical[\"insuranceclaim\"] == 0, \"charges\"].dropna().to_numpy()  # uninsured\n",
    "\n",
    "# --- Summaries ---\n",
    "n1, n2 = len(a), len(b)\n",
    "x1, x2 = a.mean(), b.mean()\n",
    "s1, s2 = a.std(ddof=1), b.std(ddof=1)\n",
    "\n",
    "# --- Manual pooled t-test (equal variances) ---\n",
    "df  = n1 + n2 - 2\n",
    "sp2 = ((n1 - 1)*s1**2 + (n2 - 1)*s2**2) / df\n",
    "sp  = np.sqrt(sp2)\n",
    "SE  = sp * np.sqrt(1/n1 + 1/n2)\n",
    "t_manual = (x1 - x2) / SE\n",
    "p_manual = 2 * stats.t.sf(np.abs(t_manual), df)   # two-sided p-value\n",
    "\n",
    "# --- SciPy (same test) ---\n",
    "t_scipy, p_scipy = stats.ttest_ind(a, b, equal_var=True)  # two-sided by default\n",
    "\n",
    "# --- Report ---\n",
    "print(f\"n: insured={n1}, uninsured={n2}\")\n",
    "print(f\"means: insured={x1:.2f}, uninsured={x2:.2f}\")\n",
    "print(f\"sd: insured={s1:.2f}, uninsured={s2:.2f}\\n\")\n",
    "\n",
    "print(\"Manual pooled t-test:\")\n",
    "print(f\"  t = {t_manual:.6f}, df = {df}, p(two-sided) = {p_manual:.6g}\")\n",
    "\n",
    "print(\"SciPy ttest_ind (equal_var=True):\")\n",
    "print(f\"  t = {t_scipy:.6f}, df = {df}, p(two-sided) = {p_scipy:.6g}\")\n",
    "\n",
    "\n"
   ]
  },
  {
   "cell_type": "markdown",
   "metadata": {},
   "source": [
    "Congratulations! Hopefully you got the exact same numerical results. This shows that you correctly calculated the numbers by hand. Secondly, you used the correct function and saw that it's much easier to use. All you need to do is pass your data to it."
   ]
  },
  {
   "cell_type": "markdown",
   "metadata": {},
   "source": [
    "__Q6:__ Conceptual question: look through the documentation for statistical test functions in scipy.stats. You'll see the above _t_-test for a sample, but can you see an equivalent one for performing a *z*-test from a sample? Comment on your answer."
   ]
  },
  {
   "cell_type": "markdown",
   "metadata": {},
   "source": [
    "__A:__ **Answer (Q6).** No—`scipy.stats` provides t-tests (e.g., `ttest_1samp`, `ttest_ind`, `ttest_rel`) but does **not** include a built-in, general **z-test for means**. The closest “z” utilities in SciPy are things like `zscore`, which standardize data and are **not hypothesis tests**. This is mostly practical: z-tests assume a **known population standard deviation**, which is rare in real applications; the **t-test** is the default because σ is typically unknown and, for large \\(n\\), the t-test’s distribution approaches the standard normal anyway. If you truly know σ (or want a large-sample normal approximation), you can compute a z statistic manually using the normal CDF/PDF, or use `statsmodels` which *does* expose `ztest` and `proportions_ztest`. :contentReference[oaicite:0]{index=0}\n"
   ]
  },
  {
   "cell_type": "markdown",
   "metadata": {},
   "source": [
    "## Learning outcomes"
   ]
  },
  {
   "cell_type": "markdown",
   "metadata": {},
   "source": [
    "Having completed this project notebook, you now have good hands-on experience:\n",
    "* using the central limit theorem to help you apply frequentist techniques to answer questions that pertain to very non-normally distributed data from the real world\n",
    "* performing inference using such data to answer business questions\n",
    "* forming a hypothesis and framing the null and alternative hypotheses\n",
    "* testing this using a _t_-test"
   ]
  }
 ],
 "metadata": {
  "kernelspec": {
   "display_name": "Python 3 (ipykernel)",
   "language": "python",
   "name": "python3"
  },
  "language_info": {
   "codemirror_mode": {
    "name": "ipython",
    "version": 3
   },
   "file_extension": ".py",
   "mimetype": "text/x-python",
   "name": "python",
   "nbconvert_exporter": "python",
   "pygments_lexer": "ipython3",
   "version": "3.12.4"
  }
 },
 "nbformat": 4,
 "nbformat_minor": 4
}
